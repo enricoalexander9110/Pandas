{
 "cells": [
  {
   "cell_type": "code",
   "execution_count": 2,
   "id": "6e5cfc13",
   "metadata": {},
   "outputs": [
    {
     "name": "stdout",
     "output_type": "stream",
     "text": [
      "1.2.4\n",
      "1.20.1\n"
     ]
    }
   ],
   "source": [
    "import pandas as pd\n",
    "import numpy as np\n",
    "\n",
    "print(pd.__version__)\n",
    "print(np.__version__)"
   ]
  },
  {
   "cell_type": "code",
   "execution_count": 3,
   "id": "87651af1",
   "metadata": {},
   "outputs": [],
   "source": [
    "# Persiapan Data Frame"
   ]
  },
  {
   "cell_type": "code",
   "execution_count": 5,
   "id": "e75795e8",
   "metadata": {},
   "outputs": [
    {
     "data": {
      "text/html": [
       "<div>\n",
       "<style scoped>\n",
       "    .dataframe tbody tr th:only-of-type {\n",
       "        vertical-align: middle;\n",
       "    }\n",
       "\n",
       "    .dataframe tbody tr th {\n",
       "        vertical-align: top;\n",
       "    }\n",
       "\n",
       "    .dataframe thead th {\n",
       "        text-align: right;\n",
       "    }\n",
       "</style>\n",
       "<table border=\"1\" class=\"dataframe\">\n",
       "  <thead>\n",
       "    <tr style=\"text-align: right;\">\n",
       "      <th></th>\n",
       "      <th>col1</th>\n",
       "      <th>col2</th>\n",
       "    </tr>\n",
       "  </thead>\n",
       "  <tbody>\n",
       "    <tr>\n",
       "      <th>2000-01-01 00:00:00</th>\n",
       "      <td>11</td>\n",
       "      <td>6</td>\n",
       "    </tr>\n",
       "    <tr>\n",
       "      <th>2000-01-01 01:00:00</th>\n",
       "      <td>17</td>\n",
       "      <td>2</td>\n",
       "    </tr>\n",
       "    <tr>\n",
       "      <th>2000-01-01 02:00:00</th>\n",
       "      <td>17</td>\n",
       "      <td>11</td>\n",
       "    </tr>\n",
       "    <tr>\n",
       "      <th>2000-01-01 03:00:00</th>\n",
       "      <td>2</td>\n",
       "      <td>8</td>\n",
       "    </tr>\n",
       "    <tr>\n",
       "      <th>2000-01-01 04:00:00</th>\n",
       "      <td>4</td>\n",
       "      <td>1</td>\n",
       "    </tr>\n",
       "    <tr>\n",
       "      <th>...</th>\n",
       "      <td>...</td>\n",
       "      <td>...</td>\n",
       "    </tr>\n",
       "    <tr>\n",
       "      <th>2000-12-30 19:00:00</th>\n",
       "      <td>17</td>\n",
       "      <td>5</td>\n",
       "    </tr>\n",
       "    <tr>\n",
       "      <th>2000-12-30 20:00:00</th>\n",
       "      <td>19</td>\n",
       "      <td>2</td>\n",
       "    </tr>\n",
       "    <tr>\n",
       "      <th>2000-12-30 21:00:00</th>\n",
       "      <td>4</td>\n",
       "      <td>11</td>\n",
       "    </tr>\n",
       "    <tr>\n",
       "      <th>2000-12-30 22:00:00</th>\n",
       "      <td>11</td>\n",
       "      <td>13</td>\n",
       "    </tr>\n",
       "    <tr>\n",
       "      <th>2000-12-30 23:00:00</th>\n",
       "      <td>1</td>\n",
       "      <td>9</td>\n",
       "    </tr>\n",
       "  </tbody>\n",
       "</table>\n",
       "<p>8760 rows × 2 columns</p>\n",
       "</div>"
      ],
      "text/plain": [
       "                     col1  col2\n",
       "2000-01-01 00:00:00    11     6\n",
       "2000-01-01 01:00:00    17     2\n",
       "2000-01-01 02:00:00    17    11\n",
       "2000-01-01 03:00:00     2     8\n",
       "2000-01-01 04:00:00     4     1\n",
       "...                   ...   ...\n",
       "2000-12-30 19:00:00    17     5\n",
       "2000-12-30 20:00:00    19     2\n",
       "2000-12-30 21:00:00     4    11\n",
       "2000-12-30 22:00:00    11    13\n",
       "2000-12-30 23:00:00     1     9\n",
       "\n",
       "[8760 rows x 2 columns]"
      ]
     },
     "execution_count": 5,
     "metadata": {},
     "output_type": "execute_result"
    }
   ],
   "source": [
    "n_rows = 365 * 24\n",
    "n_cols = 2\n",
    "cols = ['col1', 'col2']\n",
    "\n",
    "df = pd.DataFrame(np.random.randint(1, 20, size=(n_rows, n_cols)),\n",
    "                  columns=cols)\n",
    "\n",
    "df.index = pd.util.testing.makeDateIndex(n_rows, freq = 'H')\n",
    "df"
   ]
  },
  {
   "cell_type": "code",
   "execution_count": null,
   "id": "a404a2b4",
   "metadata": {},
   "outputs": [],
   "source": [
    "# Resampling data dengan interval monthly"
   ]
  },
  {
   "cell_type": "code",
   "execution_count": 6,
   "id": "02448951",
   "metadata": {},
   "outputs": [
    {
     "data": {
      "text/html": [
       "<div>\n",
       "<style scoped>\n",
       "    .dataframe tbody tr th:only-of-type {\n",
       "        vertical-align: middle;\n",
       "    }\n",
       "\n",
       "    .dataframe tbody tr th {\n",
       "        vertical-align: top;\n",
       "    }\n",
       "\n",
       "    .dataframe thead th {\n",
       "        text-align: right;\n",
       "    }\n",
       "</style>\n",
       "<table border=\"1\" class=\"dataframe\">\n",
       "  <thead>\n",
       "    <tr style=\"text-align: right;\">\n",
       "      <th></th>\n",
       "      <th>col1</th>\n",
       "    </tr>\n",
       "  </thead>\n",
       "  <tbody>\n",
       "    <tr>\n",
       "      <th>2000-01-31</th>\n",
       "      <td>7537</td>\n",
       "    </tr>\n",
       "    <tr>\n",
       "      <th>2000-02-29</th>\n",
       "      <td>7061</td>\n",
       "    </tr>\n",
       "    <tr>\n",
       "      <th>2000-03-31</th>\n",
       "      <td>7163</td>\n",
       "    </tr>\n",
       "    <tr>\n",
       "      <th>2000-04-30</th>\n",
       "      <td>7070</td>\n",
       "    </tr>\n",
       "    <tr>\n",
       "      <th>2000-05-31</th>\n",
       "      <td>7478</td>\n",
       "    </tr>\n",
       "    <tr>\n",
       "      <th>2000-06-30</th>\n",
       "      <td>7388</td>\n",
       "    </tr>\n",
       "    <tr>\n",
       "      <th>2000-07-31</th>\n",
       "      <td>7552</td>\n",
       "    </tr>\n",
       "    <tr>\n",
       "      <th>2000-08-31</th>\n",
       "      <td>7609</td>\n",
       "    </tr>\n",
       "    <tr>\n",
       "      <th>2000-09-30</th>\n",
       "      <td>7190</td>\n",
       "    </tr>\n",
       "    <tr>\n",
       "      <th>2000-10-31</th>\n",
       "      <td>7303</td>\n",
       "    </tr>\n",
       "    <tr>\n",
       "      <th>2000-11-30</th>\n",
       "      <td>7205</td>\n",
       "    </tr>\n",
       "    <tr>\n",
       "      <th>2000-12-31</th>\n",
       "      <td>6979</td>\n",
       "    </tr>\n",
       "  </tbody>\n",
       "</table>\n",
       "</div>"
      ],
      "text/plain": [
       "            col1\n",
       "2000-01-31  7537\n",
       "2000-02-29  7061\n",
       "2000-03-31  7163\n",
       "2000-04-30  7070\n",
       "2000-05-31  7478\n",
       "2000-06-30  7388\n",
       "2000-07-31  7552\n",
       "2000-08-31  7609\n",
       "2000-09-30  7190\n",
       "2000-10-31  7303\n",
       "2000-11-30  7205\n",
       "2000-12-31  6979"
      ]
     },
     "execution_count": 6,
     "metadata": {},
     "output_type": "execute_result"
    }
   ],
   "source": [
    "df.resample('M')['col1'].sum().to_frame()"
   ]
  },
  {
   "cell_type": "code",
   "execution_count": null,
   "id": "658c4641",
   "metadata": {},
   "outputs": [],
   "source": [
    "# Resampling data dengan interval daily"
   ]
  },
  {
   "cell_type": "code",
   "execution_count": 7,
   "id": "3e5c0428",
   "metadata": {},
   "outputs": [
    {
     "data": {
      "text/html": [
       "<div>\n",
       "<style scoped>\n",
       "    .dataframe tbody tr th:only-of-type {\n",
       "        vertical-align: middle;\n",
       "    }\n",
       "\n",
       "    .dataframe tbody tr th {\n",
       "        vertical-align: top;\n",
       "    }\n",
       "\n",
       "    .dataframe thead th {\n",
       "        text-align: right;\n",
       "    }\n",
       "</style>\n",
       "<table border=\"1\" class=\"dataframe\">\n",
       "  <thead>\n",
       "    <tr style=\"text-align: right;\">\n",
       "      <th></th>\n",
       "      <th>col1</th>\n",
       "    </tr>\n",
       "  </thead>\n",
       "  <tbody>\n",
       "    <tr>\n",
       "      <th>2000-01-01</th>\n",
       "      <td>294</td>\n",
       "    </tr>\n",
       "    <tr>\n",
       "      <th>2000-01-02</th>\n",
       "      <td>272</td>\n",
       "    </tr>\n",
       "    <tr>\n",
       "      <th>2000-01-03</th>\n",
       "      <td>212</td>\n",
       "    </tr>\n",
       "    <tr>\n",
       "      <th>2000-01-04</th>\n",
       "      <td>240</td>\n",
       "    </tr>\n",
       "    <tr>\n",
       "      <th>2000-01-05</th>\n",
       "      <td>200</td>\n",
       "    </tr>\n",
       "    <tr>\n",
       "      <th>...</th>\n",
       "      <td>...</td>\n",
       "    </tr>\n",
       "    <tr>\n",
       "      <th>2000-12-26</th>\n",
       "      <td>242</td>\n",
       "    </tr>\n",
       "    <tr>\n",
       "      <th>2000-12-27</th>\n",
       "      <td>199</td>\n",
       "    </tr>\n",
       "    <tr>\n",
       "      <th>2000-12-28</th>\n",
       "      <td>231</td>\n",
       "    </tr>\n",
       "    <tr>\n",
       "      <th>2000-12-29</th>\n",
       "      <td>205</td>\n",
       "    </tr>\n",
       "    <tr>\n",
       "      <th>2000-12-30</th>\n",
       "      <td>202</td>\n",
       "    </tr>\n",
       "  </tbody>\n",
       "</table>\n",
       "<p>365 rows × 1 columns</p>\n",
       "</div>"
      ],
      "text/plain": [
       "            col1\n",
       "2000-01-01   294\n",
       "2000-01-02   272\n",
       "2000-01-03   212\n",
       "2000-01-04   240\n",
       "2000-01-05   200\n",
       "...          ...\n",
       "2000-12-26   242\n",
       "2000-12-27   199\n",
       "2000-12-28   231\n",
       "2000-12-29   205\n",
       "2000-12-30   202\n",
       "\n",
       "[365 rows x 1 columns]"
      ]
     },
     "execution_count": 7,
     "metadata": {},
     "output_type": "execute_result"
    }
   ],
   "source": [
    "df.resample('D')['col1'].sum().to_frame()"
   ]
  },
  {
   "cell_type": "code",
   "execution_count": 8,
   "id": "074f1896",
   "metadata": {},
   "outputs": [],
   "source": [
    "# Membentuk Data Frame dari Dictionary"
   ]
  },
  {
   "cell_type": "code",
   "execution_count": 9,
   "id": "223225d8",
   "metadata": {},
   "outputs": [
    {
     "data": {
      "text/html": [
       "<div>\n",
       "<style scoped>\n",
       "    .dataframe tbody tr th:only-of-type {\n",
       "        vertical-align: middle;\n",
       "    }\n",
       "\n",
       "    .dataframe tbody tr th {\n",
       "        vertical-align: top;\n",
       "    }\n",
       "\n",
       "    .dataframe thead th {\n",
       "        text-align: right;\n",
       "    }\n",
       "</style>\n",
       "<table border=\"1\" class=\"dataframe\">\n",
       "  <thead>\n",
       "    <tr style=\"text-align: right;\">\n",
       "      <th></th>\n",
       "      <th>col1</th>\n",
       "      <th>col2</th>\n",
       "    </tr>\n",
       "  </thead>\n",
       "  <tbody>\n",
       "    <tr>\n",
       "      <th>0</th>\n",
       "      <td>1</td>\n",
       "      <td>5</td>\n",
       "    </tr>\n",
       "    <tr>\n",
       "      <th>1</th>\n",
       "      <td>2</td>\n",
       "      <td>6</td>\n",
       "    </tr>\n",
       "    <tr>\n",
       "      <th>2</th>\n",
       "      <td>3</td>\n",
       "      <td>7</td>\n",
       "    </tr>\n",
       "    <tr>\n",
       "      <th>3</th>\n",
       "      <td>4</td>\n",
       "      <td>8</td>\n",
       "    </tr>\n",
       "  </tbody>\n",
       "</table>\n",
       "</div>"
      ],
      "text/plain": [
       "   col1  col2\n",
       "0     1     5\n",
       "1     2     6\n",
       "2     3     7\n",
       "3     4     8"
      ]
     },
     "execution_count": 9,
     "metadata": {},
     "output_type": "execute_result"
    }
   ],
   "source": [
    "pd.DataFrame({'col1':[1, 2, 3, 4],\n",
    "              'col2':[5, 6, 7, 8]})"
   ]
  },
  {
   "cell_type": "code",
   "execution_count": 10,
   "id": "4376cc30",
   "metadata": {},
   "outputs": [],
   "source": [
    "# Membentuk Data Frame dari Numpy Array"
   ]
  },
  {
   "cell_type": "code",
   "execution_count": 11,
   "id": "48a7c351",
   "metadata": {},
   "outputs": [
    {
     "data": {
      "text/plain": [
       "array([[15,  1,  1],\n",
       "       [15,  8, 14],\n",
       "       [ 8, 10,  1],\n",
       "       [ 2, 10, 11],\n",
       "       [13, 19, 11]])"
      ]
     },
     "execution_count": 11,
     "metadata": {},
     "output_type": "execute_result"
    }
   ],
   "source": [
    "n_rows = 5\n",
    "n_cols = 3\n",
    "\n",
    "arr = np.random.randint(1, 20, size=(n_rows, n_cols))\n",
    "arr              "
   ]
  },
  {
   "cell_type": "code",
   "execution_count": 12,
   "id": "8652197f",
   "metadata": {},
   "outputs": [
    {
     "data": {
      "text/html": [
       "<div>\n",
       "<style scoped>\n",
       "    .dataframe tbody tr th:only-of-type {\n",
       "        vertical-align: middle;\n",
       "    }\n",
       "\n",
       "    .dataframe tbody tr th {\n",
       "        vertical-align: top;\n",
       "    }\n",
       "\n",
       "    .dataframe thead th {\n",
       "        text-align: right;\n",
       "    }\n",
       "</style>\n",
       "<table border=\"1\" class=\"dataframe\">\n",
       "  <thead>\n",
       "    <tr style=\"text-align: right;\">\n",
       "      <th></th>\n",
       "      <th>A</th>\n",
       "      <th>B</th>\n",
       "      <th>C</th>\n",
       "    </tr>\n",
       "  </thead>\n",
       "  <tbody>\n",
       "    <tr>\n",
       "      <th>0</th>\n",
       "      <td>15</td>\n",
       "      <td>1</td>\n",
       "      <td>1</td>\n",
       "    </tr>\n",
       "    <tr>\n",
       "      <th>1</th>\n",
       "      <td>15</td>\n",
       "      <td>8</td>\n",
       "      <td>14</td>\n",
       "    </tr>\n",
       "    <tr>\n",
       "      <th>2</th>\n",
       "      <td>8</td>\n",
       "      <td>10</td>\n",
       "      <td>1</td>\n",
       "    </tr>\n",
       "    <tr>\n",
       "      <th>3</th>\n",
       "      <td>2</td>\n",
       "      <td>10</td>\n",
       "      <td>11</td>\n",
       "    </tr>\n",
       "    <tr>\n",
       "      <th>4</th>\n",
       "      <td>13</td>\n",
       "      <td>19</td>\n",
       "      <td>11</td>\n",
       "    </tr>\n",
       "  </tbody>\n",
       "</table>\n",
       "</div>"
      ],
      "text/plain": [
       "    A   B   C\n",
       "0  15   1   1\n",
       "1  15   8  14\n",
       "2   8  10   1\n",
       "3   2  10  11\n",
       "4  13  19  11"
      ]
     },
     "execution_count": 12,
     "metadata": {},
     "output_type": "execute_result"
    }
   ],
   "source": [
    "pd.DataFrame(arr, columns=tuple('ABC'))"
   ]
  },
  {
   "cell_type": "code",
   "execution_count": 13,
   "id": "5ac0cae1",
   "metadata": {},
   "outputs": [],
   "source": [
    "# Membentuk Data Frame dengan memanfaatkan pandas.util.testing"
   ]
  },
  {
   "cell_type": "code",
   "execution_count": 16,
   "id": "887cfdd7",
   "metadata": {},
   "outputs": [
    {
     "data": {
      "text/html": [
       "<div>\n",
       "<style scoped>\n",
       "    .dataframe tbody tr th:only-of-type {\n",
       "        vertical-align: middle;\n",
       "    }\n",
       "\n",
       "    .dataframe tbody tr th {\n",
       "        vertical-align: top;\n",
       "    }\n",
       "\n",
       "    .dataframe thead th {\n",
       "        text-align: right;\n",
       "    }\n",
       "</style>\n",
       "<table border=\"1\" class=\"dataframe\">\n",
       "  <thead>\n",
       "    <tr style=\"text-align: right;\">\n",
       "      <th></th>\n",
       "      <th>A</th>\n",
       "      <th>B</th>\n",
       "      <th>C</th>\n",
       "      <th>D</th>\n",
       "    </tr>\n",
       "  </thead>\n",
       "  <tbody>\n",
       "    <tr>\n",
       "      <th>xoCGriSJlX</th>\n",
       "      <td>-1.612678</td>\n",
       "      <td>-1.131228</td>\n",
       "      <td>-0.312999</td>\n",
       "      <td>0.396483</td>\n",
       "    </tr>\n",
       "    <tr>\n",
       "      <th>r58dgi1snK</th>\n",
       "      <td>0.195835</td>\n",
       "      <td>1.255993</td>\n",
       "      <td>-0.473731</td>\n",
       "      <td>1.753715</td>\n",
       "    </tr>\n",
       "    <tr>\n",
       "      <th>ERMuYOAKYC</th>\n",
       "      <td>0.016136</td>\n",
       "      <td>1.750461</td>\n",
       "      <td>-0.635177</td>\n",
       "      <td>0.643110</td>\n",
       "    </tr>\n",
       "    <tr>\n",
       "      <th>0dI2JNbNyP</th>\n",
       "      <td>-0.473368</td>\n",
       "      <td>0.000986</td>\n",
       "      <td>2.712219</td>\n",
       "      <td>1.466635</td>\n",
       "    </tr>\n",
       "    <tr>\n",
       "      <th>L2zdJRMkoa</th>\n",
       "      <td>-0.745456</td>\n",
       "      <td>1.598852</td>\n",
       "      <td>-0.528692</td>\n",
       "      <td>-1.234829</td>\n",
       "    </tr>\n",
       "  </tbody>\n",
       "</table>\n",
       "</div>"
      ],
      "text/plain": [
       "                   A         B         C         D\n",
       "xoCGriSJlX -1.612678 -1.131228 -0.312999  0.396483\n",
       "r58dgi1snK  0.195835  1.255993 -0.473731  1.753715\n",
       "ERMuYOAKYC  0.016136  1.750461 -0.635177  0.643110\n",
       "0dI2JNbNyP -0.473368  0.000986  2.712219  1.466635\n",
       "L2zdJRMkoa -0.745456  1.598852 -0.528692 -1.234829"
      ]
     },
     "execution_count": 16,
     "metadata": {},
     "output_type": "execute_result"
    }
   ],
   "source": [
    "pd.util.testing.makeDataFrame().head()"
   ]
  },
  {
   "cell_type": "code",
   "execution_count": 17,
   "id": "37a9e5ee",
   "metadata": {},
   "outputs": [
    {
     "data": {
      "text/html": [
       "<div>\n",
       "<style scoped>\n",
       "    .dataframe tbody tr th:only-of-type {\n",
       "        vertical-align: middle;\n",
       "    }\n",
       "\n",
       "    .dataframe tbody tr th {\n",
       "        vertical-align: top;\n",
       "    }\n",
       "\n",
       "    .dataframe thead th {\n",
       "        text-align: right;\n",
       "    }\n",
       "</style>\n",
       "<table border=\"1\" class=\"dataframe\">\n",
       "  <thead>\n",
       "    <tr style=\"text-align: right;\">\n",
       "      <th></th>\n",
       "      <th>A</th>\n",
       "      <th>B</th>\n",
       "      <th>C</th>\n",
       "      <th>D</th>\n",
       "    </tr>\n",
       "  </thead>\n",
       "  <tbody>\n",
       "    <tr>\n",
       "      <th>0</th>\n",
       "      <td>0.0</td>\n",
       "      <td>0.0</td>\n",
       "      <td>foo1</td>\n",
       "      <td>2009-01-01</td>\n",
       "    </tr>\n",
       "    <tr>\n",
       "      <th>1</th>\n",
       "      <td>1.0</td>\n",
       "      <td>1.0</td>\n",
       "      <td>foo2</td>\n",
       "      <td>2009-01-02</td>\n",
       "    </tr>\n",
       "    <tr>\n",
       "      <th>2</th>\n",
       "      <td>2.0</td>\n",
       "      <td>0.0</td>\n",
       "      <td>foo3</td>\n",
       "      <td>2009-01-05</td>\n",
       "    </tr>\n",
       "    <tr>\n",
       "      <th>3</th>\n",
       "      <td>3.0</td>\n",
       "      <td>1.0</td>\n",
       "      <td>foo4</td>\n",
       "      <td>2009-01-06</td>\n",
       "    </tr>\n",
       "    <tr>\n",
       "      <th>4</th>\n",
       "      <td>4.0</td>\n",
       "      <td>0.0</td>\n",
       "      <td>foo5</td>\n",
       "      <td>2009-01-07</td>\n",
       "    </tr>\n",
       "  </tbody>\n",
       "</table>\n",
       "</div>"
      ],
      "text/plain": [
       "     A    B     C          D\n",
       "0  0.0  0.0  foo1 2009-01-01\n",
       "1  1.0  1.0  foo2 2009-01-02\n",
       "2  2.0  0.0  foo3 2009-01-05\n",
       "3  3.0  1.0  foo4 2009-01-06\n",
       "4  4.0  0.0  foo5 2009-01-07"
      ]
     },
     "execution_count": 17,
     "metadata": {},
     "output_type": "execute_result"
    }
   ],
   "source": [
    "pd.util.testing.makeMixedDataFrame().head()"
   ]
  },
  {
   "cell_type": "code",
   "execution_count": 18,
   "id": "f91015ef",
   "metadata": {},
   "outputs": [
    {
     "data": {
      "text/html": [
       "<div>\n",
       "<style scoped>\n",
       "    .dataframe tbody tr th:only-of-type {\n",
       "        vertical-align: middle;\n",
       "    }\n",
       "\n",
       "    .dataframe tbody tr th {\n",
       "        vertical-align: top;\n",
       "    }\n",
       "\n",
       "    .dataframe thead th {\n",
       "        text-align: right;\n",
       "    }\n",
       "</style>\n",
       "<table border=\"1\" class=\"dataframe\">\n",
       "  <thead>\n",
       "    <tr style=\"text-align: right;\">\n",
       "      <th></th>\n",
       "      <th>A</th>\n",
       "      <th>B</th>\n",
       "      <th>C</th>\n",
       "      <th>D</th>\n",
       "    </tr>\n",
       "  </thead>\n",
       "  <tbody>\n",
       "    <tr>\n",
       "      <th>2000-01-03</th>\n",
       "      <td>1.113185</td>\n",
       "      <td>-0.105915</td>\n",
       "      <td>1.165172</td>\n",
       "      <td>1.674065</td>\n",
       "    </tr>\n",
       "    <tr>\n",
       "      <th>2000-01-04</th>\n",
       "      <td>-2.067802</td>\n",
       "      <td>0.972847</td>\n",
       "      <td>-0.101714</td>\n",
       "      <td>0.390355</td>\n",
       "    </tr>\n",
       "    <tr>\n",
       "      <th>2000-01-05</th>\n",
       "      <td>1.159684</td>\n",
       "      <td>0.987381</td>\n",
       "      <td>0.137594</td>\n",
       "      <td>-0.928953</td>\n",
       "    </tr>\n",
       "    <tr>\n",
       "      <th>2000-01-06</th>\n",
       "      <td>-0.493482</td>\n",
       "      <td>-0.756037</td>\n",
       "      <td>0.284541</td>\n",
       "      <td>0.279798</td>\n",
       "    </tr>\n",
       "    <tr>\n",
       "      <th>2000-01-07</th>\n",
       "      <td>-0.825299</td>\n",
       "      <td>2.550769</td>\n",
       "      <td>0.732960</td>\n",
       "      <td>-2.242598</td>\n",
       "    </tr>\n",
       "  </tbody>\n",
       "</table>\n",
       "</div>"
      ],
      "text/plain": [
       "                   A         B         C         D\n",
       "2000-01-03  1.113185 -0.105915  1.165172  1.674065\n",
       "2000-01-04 -2.067802  0.972847 -0.101714  0.390355\n",
       "2000-01-05  1.159684  0.987381  0.137594 -0.928953\n",
       "2000-01-06 -0.493482 -0.756037  0.284541  0.279798\n",
       "2000-01-07 -0.825299  2.550769  0.732960 -2.242598"
      ]
     },
     "execution_count": 18,
     "metadata": {},
     "output_type": "execute_result"
    }
   ],
   "source": [
    "pd.util.testing.makeTimeDataFrame().head()"
   ]
  },
  {
   "cell_type": "code",
   "execution_count": 20,
   "id": "9679426c",
   "metadata": {},
   "outputs": [
    {
     "data": {
      "text/html": [
       "<div>\n",
       "<style scoped>\n",
       "    .dataframe tbody tr th:only-of-type {\n",
       "        vertical-align: middle;\n",
       "    }\n",
       "\n",
       "    .dataframe tbody tr th {\n",
       "        vertical-align: top;\n",
       "    }\n",
       "\n",
       "    .dataframe thead th {\n",
       "        text-align: right;\n",
       "    }\n",
       "</style>\n",
       "<table border=\"1\" class=\"dataframe\">\n",
       "  <thead>\n",
       "    <tr style=\"text-align: right;\">\n",
       "      <th></th>\n",
       "      <th>A</th>\n",
       "      <th>B</th>\n",
       "      <th>C</th>\n",
       "      <th>D</th>\n",
       "    </tr>\n",
       "  </thead>\n",
       "  <tbody>\n",
       "    <tr>\n",
       "      <th>pB3ZSA4zqk</th>\n",
       "      <td>1.099375</td>\n",
       "      <td>NaN</td>\n",
       "      <td>1.372689</td>\n",
       "      <td>-1.204537</td>\n",
       "    </tr>\n",
       "    <tr>\n",
       "      <th>edEaHt1hiz</th>\n",
       "      <td>0.371888</td>\n",
       "      <td>0.506487</td>\n",
       "      <td>-1.727142</td>\n",
       "      <td>-0.505992</td>\n",
       "    </tr>\n",
       "    <tr>\n",
       "      <th>nuyQErZdxf</th>\n",
       "      <td>-0.621169</td>\n",
       "      <td>-0.667453</td>\n",
       "      <td>0.352605</td>\n",
       "      <td>-0.904899</td>\n",
       "    </tr>\n",
       "    <tr>\n",
       "      <th>uyW5UretTo</th>\n",
       "      <td>-1.329918</td>\n",
       "      <td>-1.092921</td>\n",
       "      <td>-0.505537</td>\n",
       "      <td>0.443051</td>\n",
       "    </tr>\n",
       "    <tr>\n",
       "      <th>Xgw11ntQ9e</th>\n",
       "      <td>-0.598296</td>\n",
       "      <td>-1.103943</td>\n",
       "      <td>-2.229886</td>\n",
       "      <td>-1.249116</td>\n",
       "    </tr>\n",
       "  </tbody>\n",
       "</table>\n",
       "</div>"
      ],
      "text/plain": [
       "                   A         B         C         D\n",
       "pB3ZSA4zqk  1.099375       NaN  1.372689 -1.204537\n",
       "edEaHt1hiz  0.371888  0.506487 -1.727142 -0.505992\n",
       "nuyQErZdxf -0.621169 -0.667453  0.352605 -0.904899\n",
       "uyW5UretTo -1.329918 -1.092921 -0.505537  0.443051\n",
       "Xgw11ntQ9e -0.598296 -1.103943 -2.229886 -1.249116"
      ]
     },
     "execution_count": 20,
     "metadata": {},
     "output_type": "execute_result"
    }
   ],
   "source": [
    "pd.util.testing.makeMissingDataframe().head()"
   ]
  },
  {
   "cell_type": "code",
   "execution_count": null,
   "id": "e5481867",
   "metadata": {},
   "outputs": [],
   "source": [
    "# Persiapan Data Frame"
   ]
  },
  {
   "cell_type": "code",
   "execution_count": 32,
   "id": "20a1f527",
   "metadata": {},
   "outputs": [
    {
     "data": {
      "text/html": [
       "<div>\n",
       "<style scoped>\n",
       "    .dataframe tbody tr th:only-of-type {\n",
       "        vertical-align: middle;\n",
       "    }\n",
       "\n",
       "    .dataframe tbody tr th {\n",
       "        vertical-align: top;\n",
       "    }\n",
       "\n",
       "    .dataframe thead th {\n",
       "        text-align: right;\n",
       "    }\n",
       "</style>\n",
       "<table border=\"1\" class=\"dataframe\">\n",
       "  <thead>\n",
       "    <tr style=\"text-align: right;\">\n",
       "      <th></th>\n",
       "      <th>omset</th>\n",
       "      <th>operasional</th>\n",
       "    </tr>\n",
       "  </thead>\n",
       "  <tbody>\n",
       "    <tr>\n",
       "      <th>0</th>\n",
       "      <td>16</td>\n",
       "      <td>6</td>\n",
       "    </tr>\n",
       "    <tr>\n",
       "      <th>1</th>\n",
       "      <td>14</td>\n",
       "      <td>4</td>\n",
       "    </tr>\n",
       "    <tr>\n",
       "      <th>2</th>\n",
       "      <td>8</td>\n",
       "      <td>11</td>\n",
       "    </tr>\n",
       "    <tr>\n",
       "      <th>3</th>\n",
       "      <td>1</td>\n",
       "      <td>1</td>\n",
       "    </tr>\n",
       "    <tr>\n",
       "      <th>4</th>\n",
       "      <td>18</td>\n",
       "      <td>10</td>\n",
       "    </tr>\n",
       "  </tbody>\n",
       "</table>\n",
       "</div>"
      ],
      "text/plain": [
       "   omset  operasional\n",
       "0     16            6\n",
       "1     14            4\n",
       "2      8           11\n",
       "3      1            1\n",
       "4     18           10"
      ]
     },
     "execution_count": 32,
     "metadata": {},
     "output_type": "execute_result"
    }
   ],
   "source": [
    "n_rows = 5\n",
    "n_cols = 2\n",
    "cols = ['omset', 'operasional']\n",
    "\n",
    "df = pd.DataFrame(np.random.randint(1, 20, size=(n_rows, n_cols)),\n",
    "                  columns=cols)\n",
    "df"
   ]
  },
  {
   "cell_type": "code",
   "execution_count": 33,
   "id": "d143ab95",
   "metadata": {},
   "outputs": [
    {
     "data": {
      "text/html": [
       "<div>\n",
       "<style scoped>\n",
       "    .dataframe tbody tr th:only-of-type {\n",
       "        vertical-align: middle;\n",
       "    }\n",
       "\n",
       "    .dataframe tbody tr th {\n",
       "        vertical-align: top;\n",
       "    }\n",
       "\n",
       "    .dataframe thead th {\n",
       "        text-align: right;\n",
       "    }\n",
       "</style>\n",
       "<table border=\"1\" class=\"dataframe\">\n",
       "  <thead>\n",
       "    <tr style=\"text-align: right;\">\n",
       "      <th></th>\n",
       "      <th>omset</th>\n",
       "      <th>operasional</th>\n",
       "    </tr>\n",
       "  </thead>\n",
       "  <tbody>\n",
       "    <tr>\n",
       "      <th>0</th>\n",
       "      <td>1600000</td>\n",
       "      <td>60000</td>\n",
       "    </tr>\n",
       "    <tr>\n",
       "      <th>1</th>\n",
       "      <td>1400000</td>\n",
       "      <td>40000</td>\n",
       "    </tr>\n",
       "    <tr>\n",
       "      <th>2</th>\n",
       "      <td>800000</td>\n",
       "      <td>110000</td>\n",
       "    </tr>\n",
       "    <tr>\n",
       "      <th>3</th>\n",
       "      <td>100000</td>\n",
       "      <td>10000</td>\n",
       "    </tr>\n",
       "    <tr>\n",
       "      <th>4</th>\n",
       "      <td>1800000</td>\n",
       "      <td>100000</td>\n",
       "    </tr>\n",
       "  </tbody>\n",
       "</table>\n",
       "</div>"
      ],
      "text/plain": [
       "     omset  operasional\n",
       "0  1600000        60000\n",
       "1  1400000        40000\n",
       "2   800000       110000\n",
       "3   100000        10000\n",
       "4  1800000       100000"
      ]
     },
     "execution_count": 33,
     "metadata": {},
     "output_type": "execute_result"
    }
   ],
   "source": [
    "df['omset'] = df['omset'] * 100_000\n",
    "df['operasional'] = df['operasional'] * 10_000\n",
    "df"
   ]
  },
  {
   "cell_type": "code",
   "execution_count": 34,
   "id": "0eaf9f0b",
   "metadata": {},
   "outputs": [
    {
     "data": {
      "text/html": [
       "<div>\n",
       "<style scoped>\n",
       "    .dataframe tbody tr th:only-of-type {\n",
       "        vertical-align: middle;\n",
       "    }\n",
       "\n",
       "    .dataframe tbody tr th {\n",
       "        vertical-align: top;\n",
       "    }\n",
       "\n",
       "    .dataframe thead th {\n",
       "        text-align: right;\n",
       "    }\n",
       "</style>\n",
       "<table border=\"1\" class=\"dataframe\">\n",
       "  <thead>\n",
       "    <tr style=\"text-align: right;\">\n",
       "      <th></th>\n",
       "      <th>tanggal</th>\n",
       "      <th>omset</th>\n",
       "      <th>operasional</th>\n",
       "    </tr>\n",
       "  </thead>\n",
       "  <tbody>\n",
       "    <tr>\n",
       "      <th>0</th>\n",
       "      <td>2000-01-01</td>\n",
       "      <td>1600000</td>\n",
       "      <td>60000</td>\n",
       "    </tr>\n",
       "    <tr>\n",
       "      <th>1</th>\n",
       "      <td>2000-01-02</td>\n",
       "      <td>1400000</td>\n",
       "      <td>40000</td>\n",
       "    </tr>\n",
       "    <tr>\n",
       "      <th>2</th>\n",
       "      <td>2000-01-03</td>\n",
       "      <td>800000</td>\n",
       "      <td>110000</td>\n",
       "    </tr>\n",
       "    <tr>\n",
       "      <th>3</th>\n",
       "      <td>2000-01-04</td>\n",
       "      <td>100000</td>\n",
       "      <td>10000</td>\n",
       "    </tr>\n",
       "    <tr>\n",
       "      <th>4</th>\n",
       "      <td>2000-01-05</td>\n",
       "      <td>1800000</td>\n",
       "      <td>100000</td>\n",
       "    </tr>\n",
       "  </tbody>\n",
       "</table>\n",
       "</div>"
      ],
      "text/plain": [
       "     tanggal    omset  operasional\n",
       "0 2000-01-01  1600000        60000\n",
       "1 2000-01-02  1400000        40000\n",
       "2 2000-01-03   800000       110000\n",
       "3 2000-01-04   100000        10000\n",
       "4 2000-01-05  1800000       100000"
      ]
     },
     "execution_count": 34,
     "metadata": {},
     "output_type": "execute_result"
    }
   ],
   "source": [
    "df.index = pd.util.testing.makeDateIndex(n_rows, freq='D')\n",
    "df = df.reset_index()\n",
    "df = df.rename(columns={'index':'tanggal'})\n",
    "df"
   ]
  },
  {
   "cell_type": "code",
   "execution_count": 35,
   "id": "f9a61366",
   "metadata": {},
   "outputs": [],
   "source": [
    "# Melakukan formatting tampilan Data Frame"
   ]
  },
  {
   "cell_type": "code",
   "execution_count": 44,
   "id": "920e445b",
   "metadata": {},
   "outputs": [
    {
     "data": {
      "text/html": [
       "<style  type=\"text/css\" >\n",
       "</style><table id=\"T_e04a7_\" ><thead>    <tr>        <th class=\"blank level0\" ></th>        <th class=\"col_heading level0 col0\" >tanggal</th>        <th class=\"col_heading level0 col1\" >omset</th>        <th class=\"col_heading level0 col2\" >operasional</th>    </tr></thead><tbody>\n",
       "                <tr>\n",
       "                        <th id=\"T_e04a7_level0_row0\" class=\"row_heading level0 row0\" >0</th>\n",
       "                        <td id=\"T_e04a7_row0_col0\" class=\"data row0 col0\" >01/01/00</td>\n",
       "                        <td id=\"T_e04a7_row0_col1\" class=\"data row0 col1\" >Rp 1600000.00</td>\n",
       "                        <td id=\"T_e04a7_row0_col2\" class=\"data row0 col2\" >Rp 60000.00</td>\n",
       "            </tr>\n",
       "            <tr>\n",
       "                        <th id=\"T_e04a7_level0_row1\" class=\"row_heading level0 row1\" >1</th>\n",
       "                        <td id=\"T_e04a7_row1_col0\" class=\"data row1 col0\" >02/01/00</td>\n",
       "                        <td id=\"T_e04a7_row1_col1\" class=\"data row1 col1\" >Rp 1400000.00</td>\n",
       "                        <td id=\"T_e04a7_row1_col2\" class=\"data row1 col2\" >Rp 40000.00</td>\n",
       "            </tr>\n",
       "            <tr>\n",
       "                        <th id=\"T_e04a7_level0_row2\" class=\"row_heading level0 row2\" >2</th>\n",
       "                        <td id=\"T_e04a7_row2_col0\" class=\"data row2 col0\" >03/01/00</td>\n",
       "                        <td id=\"T_e04a7_row2_col1\" class=\"data row2 col1\" >Rp 800000.00</td>\n",
       "                        <td id=\"T_e04a7_row2_col2\" class=\"data row2 col2\" >Rp 110000.00</td>\n",
       "            </tr>\n",
       "            <tr>\n",
       "                        <th id=\"T_e04a7_level0_row3\" class=\"row_heading level0 row3\" >3</th>\n",
       "                        <td id=\"T_e04a7_row3_col0\" class=\"data row3 col0\" >04/01/00</td>\n",
       "                        <td id=\"T_e04a7_row3_col1\" class=\"data row3 col1\" >Rp 100000.00</td>\n",
       "                        <td id=\"T_e04a7_row3_col2\" class=\"data row3 col2\" >Rp 10000.00</td>\n",
       "            </tr>\n",
       "            <tr>\n",
       "                        <th id=\"T_e04a7_level0_row4\" class=\"row_heading level0 row4\" >4</th>\n",
       "                        <td id=\"T_e04a7_row4_col0\" class=\"data row4 col0\" >05/01/00</td>\n",
       "                        <td id=\"T_e04a7_row4_col1\" class=\"data row4 col1\" >Rp 1800000.00</td>\n",
       "                        <td id=\"T_e04a7_row4_col2\" class=\"data row4 col2\" >Rp 100000.00</td>\n",
       "            </tr>\n",
       "    </tbody></table>"
      ],
      "text/plain": [
       "<pandas.io.formats.style.Styler at 0x1be182b4940>"
      ]
     },
     "execution_count": 44,
     "metadata": {},
     "output_type": "execute_result"
    }
   ],
   "source": [
    "formatku = {'tanggal':'{:%d/%m/%y}',\n",
    "            'operasional':'Rp {:.2f}',\n",
    "            'omset':'Rp {:.2f}'}\n",
    "\n",
    "laporan = df.style.format(formatku)\n",
    "laporan"
   ]
  },
  {
   "cell_type": "code",
   "execution_count": 43,
   "id": "04e92bec",
   "metadata": {},
   "outputs": [
    {
     "data": {
      "text/plain": [
       "pandas.io.formats.style.Styler"
      ]
     },
     "execution_count": 43,
     "metadata": {},
     "output_type": "execute_result"
    }
   ],
   "source": [
    "type(laporan)"
   ]
  },
  {
   "cell_type": "code",
   "execution_count": 45,
   "id": "0ad2f9a5",
   "metadata": {},
   "outputs": [
    {
     "data": {
      "text/html": [
       "<style  type=\"text/css\" >\n",
       "</style><table id=\"T_e04a7_\" ><thead>    <tr>        <th class=\"col_heading level0 col0\" >tanggal</th>        <th class=\"col_heading level0 col1\" >omset</th>        <th class=\"col_heading level0 col2\" >operasional</th>    </tr></thead><tbody>\n",
       "                <tr>\n",
       "                                <td id=\"T_e04a7_row0_col0\" class=\"data row0 col0\" >01/01/00</td>\n",
       "                        <td id=\"T_e04a7_row0_col1\" class=\"data row0 col1\" >Rp 1600000.00</td>\n",
       "                        <td id=\"T_e04a7_row0_col2\" class=\"data row0 col2\" >Rp 60000.00</td>\n",
       "            </tr>\n",
       "            <tr>\n",
       "                                <td id=\"T_e04a7_row1_col0\" class=\"data row1 col0\" >02/01/00</td>\n",
       "                        <td id=\"T_e04a7_row1_col1\" class=\"data row1 col1\" >Rp 1400000.00</td>\n",
       "                        <td id=\"T_e04a7_row1_col2\" class=\"data row1 col2\" >Rp 40000.00</td>\n",
       "            </tr>\n",
       "            <tr>\n",
       "                                <td id=\"T_e04a7_row2_col0\" class=\"data row2 col0\" >03/01/00</td>\n",
       "                        <td id=\"T_e04a7_row2_col1\" class=\"data row2 col1\" >Rp 800000.00</td>\n",
       "                        <td id=\"T_e04a7_row2_col2\" class=\"data row2 col2\" >Rp 110000.00</td>\n",
       "            </tr>\n",
       "            <tr>\n",
       "                                <td id=\"T_e04a7_row3_col0\" class=\"data row3 col0\" >04/01/00</td>\n",
       "                        <td id=\"T_e04a7_row3_col1\" class=\"data row3 col1\" >Rp 100000.00</td>\n",
       "                        <td id=\"T_e04a7_row3_col2\" class=\"data row3 col2\" >Rp 10000.00</td>\n",
       "            </tr>\n",
       "            <tr>\n",
       "                                <td id=\"T_e04a7_row4_col0\" class=\"data row4 col0\" >05/01/00</td>\n",
       "                        <td id=\"T_e04a7_row4_col1\" class=\"data row4 col1\" >Rp 1800000.00</td>\n",
       "                        <td id=\"T_e04a7_row4_col2\" class=\"data row4 col2\" >Rp 100000.00</td>\n",
       "            </tr>\n",
       "    </tbody></table>"
      ],
      "text/plain": [
       "<pandas.io.formats.style.Styler at 0x1be182b4940>"
      ]
     },
     "execution_count": 45,
     "metadata": {},
     "output_type": "execute_result"
    }
   ],
   "source": [
    "laporan.hide_index()"
   ]
  },
  {
   "cell_type": "code",
   "execution_count": 47,
   "id": "6a0c4bdf",
   "metadata": {},
   "outputs": [
    {
     "data": {
      "text/html": [
       "<style  type=\"text/css\" >\n",
       "</style><table id=\"T_e04a7_\" ><caption>Data Omset dan Operasional</caption><thead>    <tr>        <th class=\"col_heading level0 col0\" >tanggal</th>        <th class=\"col_heading level0 col1\" >omset</th>        <th class=\"col_heading level0 col2\" >operasional</th>    </tr></thead><tbody>\n",
       "                <tr>\n",
       "                                <td id=\"T_e04a7_row0_col0\" class=\"data row0 col0\" >01/01/00</td>\n",
       "                        <td id=\"T_e04a7_row0_col1\" class=\"data row0 col1\" >Rp 1600000.00</td>\n",
       "                        <td id=\"T_e04a7_row0_col2\" class=\"data row0 col2\" >Rp 60000.00</td>\n",
       "            </tr>\n",
       "            <tr>\n",
       "                                <td id=\"T_e04a7_row1_col0\" class=\"data row1 col0\" >02/01/00</td>\n",
       "                        <td id=\"T_e04a7_row1_col1\" class=\"data row1 col1\" >Rp 1400000.00</td>\n",
       "                        <td id=\"T_e04a7_row1_col2\" class=\"data row1 col2\" >Rp 40000.00</td>\n",
       "            </tr>\n",
       "            <tr>\n",
       "                                <td id=\"T_e04a7_row2_col0\" class=\"data row2 col0\" >03/01/00</td>\n",
       "                        <td id=\"T_e04a7_row2_col1\" class=\"data row2 col1\" >Rp 800000.00</td>\n",
       "                        <td id=\"T_e04a7_row2_col2\" class=\"data row2 col2\" >Rp 110000.00</td>\n",
       "            </tr>\n",
       "            <tr>\n",
       "                                <td id=\"T_e04a7_row3_col0\" class=\"data row3 col0\" >04/01/00</td>\n",
       "                        <td id=\"T_e04a7_row3_col1\" class=\"data row3 col1\" >Rp 100000.00</td>\n",
       "                        <td id=\"T_e04a7_row3_col2\" class=\"data row3 col2\" >Rp 10000.00</td>\n",
       "            </tr>\n",
       "            <tr>\n",
       "                                <td id=\"T_e04a7_row4_col0\" class=\"data row4 col0\" >05/01/00</td>\n",
       "                        <td id=\"T_e04a7_row4_col1\" class=\"data row4 col1\" >Rp 1800000.00</td>\n",
       "                        <td id=\"T_e04a7_row4_col2\" class=\"data row4 col2\" >Rp 100000.00</td>\n",
       "            </tr>\n",
       "    </tbody></table>"
      ],
      "text/plain": [
       "<pandas.io.formats.style.Styler at 0x1be182b4940>"
      ]
     },
     "execution_count": 47,
     "metadata": {},
     "output_type": "execute_result"
    }
   ],
   "source": [
    "laporan.set_caption('Data Omset dan Operasional')"
   ]
  },
  {
   "cell_type": "code",
   "execution_count": 48,
   "id": "ad33a403",
   "metadata": {},
   "outputs": [
    {
     "data": {
      "text/html": [
       "<style  type=\"text/css\" >\n",
       "#T_e04a7_row2_col2{\n",
       "            background-color:  grey;\n",
       "        }#T_e04a7_row3_col1{\n",
       "            background-color:  pink;\n",
       "        }#T_e04a7_row3_col2{\n",
       "            background-color:  lightblue;\n",
       "        }#T_e04a7_row4_col1{\n",
       "            background-color:  lightgreen;\n",
       "        }</style><table id=\"T_e04a7_\" ><caption>Data Omset dan Operasional</caption><thead>    <tr>        <th class=\"col_heading level0 col0\" >tanggal</th>        <th class=\"col_heading level0 col1\" >omset</th>        <th class=\"col_heading level0 col2\" >operasional</th>    </tr></thead><tbody>\n",
       "                <tr>\n",
       "                                <td id=\"T_e04a7_row0_col0\" class=\"data row0 col0\" >01/01/00</td>\n",
       "                        <td id=\"T_e04a7_row0_col1\" class=\"data row0 col1\" >Rp 1600000.00</td>\n",
       "                        <td id=\"T_e04a7_row0_col2\" class=\"data row0 col2\" >Rp 60000.00</td>\n",
       "            </tr>\n",
       "            <tr>\n",
       "                                <td id=\"T_e04a7_row1_col0\" class=\"data row1 col0\" >02/01/00</td>\n",
       "                        <td id=\"T_e04a7_row1_col1\" class=\"data row1 col1\" >Rp 1400000.00</td>\n",
       "                        <td id=\"T_e04a7_row1_col2\" class=\"data row1 col2\" >Rp 40000.00</td>\n",
       "            </tr>\n",
       "            <tr>\n",
       "                                <td id=\"T_e04a7_row2_col0\" class=\"data row2 col0\" >03/01/00</td>\n",
       "                        <td id=\"T_e04a7_row2_col1\" class=\"data row2 col1\" >Rp 800000.00</td>\n",
       "                        <td id=\"T_e04a7_row2_col2\" class=\"data row2 col2\" >Rp 110000.00</td>\n",
       "            </tr>\n",
       "            <tr>\n",
       "                                <td id=\"T_e04a7_row3_col0\" class=\"data row3 col0\" >04/01/00</td>\n",
       "                        <td id=\"T_e04a7_row3_col1\" class=\"data row3 col1\" >Rp 100000.00</td>\n",
       "                        <td id=\"T_e04a7_row3_col2\" class=\"data row3 col2\" >Rp 10000.00</td>\n",
       "            </tr>\n",
       "            <tr>\n",
       "                                <td id=\"T_e04a7_row4_col0\" class=\"data row4 col0\" >05/01/00</td>\n",
       "                        <td id=\"T_e04a7_row4_col1\" class=\"data row4 col1\" >Rp 1800000.00</td>\n",
       "                        <td id=\"T_e04a7_row4_col2\" class=\"data row4 col2\" >Rp 100000.00</td>\n",
       "            </tr>\n",
       "    </tbody></table>"
      ],
      "text/plain": [
       "<pandas.io.formats.style.Styler at 0x1be182b4940>"
      ]
     },
     "execution_count": 48,
     "metadata": {},
     "output_type": "execute_result"
    }
   ],
   "source": [
    "laporan.highlight_min('omset', color='pink')\n",
    "laporan.highlight_max('omset', color='lightgreen')\n",
    "\n",
    "laporan.highlight_min('operasional', color='lightblue')\n",
    "laporan.highlight_max('operasional', color='grey')                      "
   ]
  },
  {
   "cell_type": "code",
   "execution_count": 49,
   "id": "c9e6ced3",
   "metadata": {},
   "outputs": [],
   "source": [
    "# Persipan Data Frame"
   ]
  },
  {
   "cell_type": "code",
   "execution_count": 56,
   "id": "8ab4001d",
   "metadata": {},
   "outputs": [
    {
     "data": {
      "text/html": [
       "<div>\n",
       "<style scoped>\n",
       "    .dataframe tbody tr th:only-of-type {\n",
       "        vertical-align: middle;\n",
       "    }\n",
       "\n",
       "    .dataframe tbody tr th {\n",
       "        vertical-align: top;\n",
       "    }\n",
       "\n",
       "    .dataframe thead th {\n",
       "        text-align: right;\n",
       "    }\n",
       "</style>\n",
       "<table border=\"1\" class=\"dataframe\">\n",
       "  <thead>\n",
       "    <tr style=\"text-align: right;\">\n",
       "      <th></th>\n",
       "      <th>col1</th>\n",
       "      <th>col2</th>\n",
       "    </tr>\n",
       "  </thead>\n",
       "  <tbody>\n",
       "    <tr>\n",
       "      <th>0</th>\n",
       "      <td>1</td>\n",
       "      <td>10</td>\n",
       "    </tr>\n",
       "    <tr>\n",
       "      <th>1</th>\n",
       "      <td>2</td>\n",
       "      <td>20</td>\n",
       "    </tr>\n",
       "    <tr>\n",
       "      <th>2</th>\n",
       "      <td>3</td>\n",
       "      <td>30</td>\n",
       "    </tr>\n",
       "  </tbody>\n",
       "</table>\n",
       "</div>"
      ],
      "text/plain": [
       "   col1  col2\n",
       "0     1    10\n",
       "1     2    20\n",
       "2     3    30"
      ]
     },
     "execution_count": 56,
     "metadata": {},
     "output_type": "execute_result"
    }
   ],
   "source": [
    "d1 = {'col1':[1, 2, 3],\n",
    "      'col2':[10, 20, 30]}\n",
    "df1 = pd.DataFrame(d1)\n",
    "df1"
   ]
  },
  {
   "cell_type": "code",
   "execution_count": 55,
   "id": "c4fdfc9e",
   "metadata": {},
   "outputs": [
    {
     "data": {
      "text/html": [
       "<div>\n",
       "<style scoped>\n",
       "    .dataframe tbody tr th:only-of-type {\n",
       "        vertical-align: middle;\n",
       "    }\n",
       "\n",
       "    .dataframe tbody tr th {\n",
       "        vertical-align: top;\n",
       "    }\n",
       "\n",
       "    .dataframe thead th {\n",
       "        text-align: right;\n",
       "    }\n",
       "</style>\n",
       "<table border=\"1\" class=\"dataframe\">\n",
       "  <thead>\n",
       "    <tr style=\"text-align: right;\">\n",
       "      <th></th>\n",
       "      <th>col1</th>\n",
       "      <th>col2</th>\n",
       "    </tr>\n",
       "  </thead>\n",
       "  <tbody>\n",
       "    <tr>\n",
       "      <th>0</th>\n",
       "      <td>4</td>\n",
       "      <td>40</td>\n",
       "    </tr>\n",
       "    <tr>\n",
       "      <th>1</th>\n",
       "      <td>5</td>\n",
       "      <td>50</td>\n",
       "    </tr>\n",
       "    <tr>\n",
       "      <th>2</th>\n",
       "      <td>6</td>\n",
       "      <td>60</td>\n",
       "    </tr>\n",
       "  </tbody>\n",
       "</table>\n",
       "</div>"
      ],
      "text/plain": [
       "   col1  col2\n",
       "0     4    40\n",
       "1     5    50\n",
       "2     6    60"
      ]
     },
     "execution_count": 55,
     "metadata": {},
     "output_type": "execute_result"
    }
   ],
   "source": [
    "d2 = {'col1':[4, 5, 6],\n",
    "      'col2':[40, 50, 60]}\n",
    "df2 = pd.DataFrame(d2)\n",
    "df2"
   ]
  },
  {
   "cell_type": "code",
   "execution_count": null,
   "id": "e01bb894",
   "metadata": {},
   "outputs": [],
   "source": [
    "# Menggabungkan (merge) dua Data Frame secara berdampingan"
   ]
  },
  {
   "cell_type": "code",
   "execution_count": 57,
   "id": "fdfca1da",
   "metadata": {},
   "outputs": [
    {
     "data": {
      "text/html": [
       "<div>\n",
       "<style scoped>\n",
       "    .dataframe tbody tr th:only-of-type {\n",
       "        vertical-align: middle;\n",
       "    }\n",
       "\n",
       "    .dataframe tbody tr th {\n",
       "        vertical-align: top;\n",
       "    }\n",
       "\n",
       "    .dataframe thead th {\n",
       "        text-align: right;\n",
       "    }\n",
       "</style>\n",
       "<table border=\"1\" class=\"dataframe\">\n",
       "  <thead>\n",
       "    <tr style=\"text-align: right;\">\n",
       "      <th></th>\n",
       "      <th>col1_x</th>\n",
       "      <th>col2_x</th>\n",
       "      <th>col1_y</th>\n",
       "      <th>col2_y</th>\n",
       "    </tr>\n",
       "  </thead>\n",
       "  <tbody>\n",
       "    <tr>\n",
       "      <th>0</th>\n",
       "      <td>1</td>\n",
       "      <td>10</td>\n",
       "      <td>4</td>\n",
       "      <td>40</td>\n",
       "    </tr>\n",
       "    <tr>\n",
       "      <th>1</th>\n",
       "      <td>2</td>\n",
       "      <td>20</td>\n",
       "      <td>5</td>\n",
       "      <td>50</td>\n",
       "    </tr>\n",
       "    <tr>\n",
       "      <th>2</th>\n",
       "      <td>3</td>\n",
       "      <td>30</td>\n",
       "      <td>6</td>\n",
       "      <td>60</td>\n",
       "    </tr>\n",
       "  </tbody>\n",
       "</table>\n",
       "</div>"
      ],
      "text/plain": [
       "   col1_x  col2_x  col1_y  col2_y\n",
       "0       1      10       4      40\n",
       "1       2      20       5      50\n",
       "2       3      30       6      60"
      ]
     },
     "execution_count": 57,
     "metadata": {},
     "output_type": "execute_result"
    }
   ],
   "source": [
    "df = pd.merge(df1, df2, left_index=True, right_index=True)\n",
    "df"
   ]
  }
 ],
 "metadata": {
  "kernelspec": {
   "display_name": "Python 3",
   "language": "python",
   "name": "python3"
  },
  "language_info": {
   "codemirror_mode": {
    "name": "ipython",
    "version": 3
   },
   "file_extension": ".py",
   "mimetype": "text/x-python",
   "name": "python",
   "nbconvert_exporter": "python",
   "pygments_lexer": "ipython3",
   "version": "3.8.8"
  }
 },
 "nbformat": 4,
 "nbformat_minor": 5
}
