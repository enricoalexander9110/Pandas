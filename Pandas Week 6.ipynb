{
 "cells": [
  {
   "cell_type": "code",
   "execution_count": 2,
   "id": "f0f70001",
   "metadata": {},
   "outputs": [
    {
     "name": "stdout",
     "output_type": "stream",
     "text": [
      "1.2.4\n"
     ]
    }
   ],
   "source": [
    "import pandas as pd\n",
    "\n",
    "print(pd.__version__)"
   ]
  },
  {
   "cell_type": "code",
   "execution_count": null,
   "id": "a177eed5",
   "metadata": {},
   "outputs": [],
   "source": [
    "# Pandas 21"
   ]
  },
  {
   "cell_type": "code",
   "execution_count": null,
   "id": "d88ea9ab",
   "metadata": {},
   "outputs": [],
   "source": [
    "df = pd.read_csv('./data/Iris.csv')\n",
    "df"
   ]
  },
  {
   "cell_type": "code",
   "execution_count": null,
   "id": "995b358a",
   "metadata": {},
   "outputs": [],
   "source": [
    "# Mengenal groupby() dan fungsi agreagasi"
   ]
  },
  {
   "cell_type": "code",
   "execution_count": null,
   "id": "6e352a42",
   "metadata": {},
   "outputs": [],
   "source": [
    "df.groupby('Species')['PetalLengthCm'].count().to_frame()"
   ]
  },
  {
   "cell_type": "code",
   "execution_count": null,
   "id": "ddb06d98",
   "metadata": {},
   "outputs": [],
   "source": [
    "df.groupby('Species')['PetalLengthCm'].mean().to_frame()"
   ]
  },
  {
   "cell_type": "code",
   "execution_count": null,
   "id": "d55be858",
   "metadata": {},
   "outputs": [],
   "source": [
    "df.groupby('Species')['PetalLengthCm'].median().to_frame()"
   ]
  },
  {
   "cell_type": "code",
   "execution_count": 4,
   "id": "8204d56c",
   "metadata": {},
   "outputs": [],
   "source": [
    "# Agregasi dengan agg()"
   ]
  },
  {
   "cell_type": "code",
   "execution_count": null,
   "id": "28ede988",
   "metadata": {},
   "outputs": [],
   "source": [
    "df.groupby('Species')['PetalLengthCm'].agg(['count', 'mean', 'median'])"
   ]
  },
  {
   "cell_type": "code",
   "execution_count": null,
   "id": "623e5660",
   "metadata": {},
   "outputs": [],
   "source": [
    "df.groupby('Species')['PetalLengthCm'].describe"
   ]
  },
  {
   "cell_type": "code",
   "execution_count": null,
   "id": "d617e6a1",
   "metadata": {},
   "outputs": [],
   "source": [
    "#Pandas 22"
   ]
  },
  {
   "cell_type": "code",
   "execution_count": null,
   "id": "de87be0b",
   "metadata": {},
   "outputs": [],
   "source": [
    "df_titanic = pd.read_csv('./data/titanicfull.csv')\n",
    "df_titanic.head()"
   ]
  },
  {
   "cell_type": "code",
   "execution_count": null,
   "id": "8b4f2e68",
   "metadata": {},
   "outputs": [],
   "source": [
    "df_iris = pd.read_csv('./data/Iris.csv')\n",
    "df_iris.head()"
   ]
  },
  {
   "cell_type": "code",
   "execution_count": 5,
   "id": "e6fcc565",
   "metadata": {},
   "outputs": [],
   "source": [
    "# Memantau penggunaan memory suatu Data Frame"
   ]
  },
  {
   "cell_type": "code",
   "execution_count": null,
   "id": "946b4f23",
   "metadata": {},
   "outputs": [],
   "source": [
    "df_titanic.info(memory_usage = 'deep')"
   ]
  },
  {
   "cell_type": "code",
   "execution_count": null,
   "id": "3fd0ceb9",
   "metadata": {},
   "outputs": [],
   "source": [
    "df_iris.info(memory_usage = 'deep')"
   ]
  },
  {
   "cell_type": "code",
   "execution_count": null,
   "id": "faeffe57",
   "metadata": {},
   "outputs": [],
   "source": [
    "# Memantau penggunaan memory untuk setiap kolom dari suatu Data Frame"
   ]
  },
  {
   "cell_type": "code",
   "execution_count": null,
   "id": "4b6ad2b8",
   "metadata": {},
   "outputs": [],
   "source": [
    "df_titanic.inf(memory_usage(deep = True)"
   ]
  },
  {
   "cell_type": "code",
   "execution_count": null,
   "id": "e6a68099",
   "metadata": {},
   "outputs": [],
   "source": [
    "df_iris.infomemory_usage(deep = True)"
   ]
  },
  {
   "cell_type": "code",
   "execution_count": 6,
   "id": "d2a2f90e",
   "metadata": {},
   "outputs": [],
   "source": [
    "# Pandas 23"
   ]
  },
  {
   "cell_type": "code",
   "execution_count": 7,
   "id": "094b236e",
   "metadata": {},
   "outputs": [],
   "source": [
    "# Persiapan Data Frame"
   ]
  },
  {
   "cell_type": "code",
   "execution_count": 8,
   "id": "4c0835ef",
   "metadata": {},
   "outputs": [
    {
     "data": {
      "text/html": [
       "<div>\n",
       "<style scoped>\n",
       "    .dataframe tbody tr th:only-of-type {\n",
       "        vertical-align: middle;\n",
       "    }\n",
       "\n",
       "    .dataframe tbody tr th {\n",
       "        vertical-align: top;\n",
       "    }\n",
       "\n",
       "    .dataframe thead th {\n",
       "        text-align: right;\n",
       "    }\n",
       "</style>\n",
       "<table border=\"1\" class=\"dataframe\">\n",
       "  <thead>\n",
       "    <tr style=\"text-align: right;\">\n",
       "      <th></th>\n",
       "      <th>kolom_satu</th>\n",
       "      <th>kolom_dua</th>\n",
       "    </tr>\n",
       "  </thead>\n",
       "  <tbody>\n",
       "    <tr>\n",
       "      <th>0</th>\n",
       "      <td>1</td>\n",
       "      <td>10</td>\n",
       "    </tr>\n",
       "    <tr>\n",
       "      <th>1</th>\n",
       "      <td>2</td>\n",
       "      <td>20</td>\n",
       "    </tr>\n",
       "    <tr>\n",
       "      <th>2</th>\n",
       "      <td>3</td>\n",
       "      <td>30</td>\n",
       "    </tr>\n",
       "    <tr>\n",
       "      <th>3</th>\n",
       "      <td>4</td>\n",
       "      <td>40</td>\n",
       "    </tr>\n",
       "    <tr>\n",
       "      <th>4</th>\n",
       "      <td>5</td>\n",
       "      <td>50</td>\n",
       "    </tr>\n",
       "  </tbody>\n",
       "</table>\n",
       "</div>"
      ],
      "text/plain": [
       "   kolom_satu  kolom_dua\n",
       "0           1         10\n",
       "1           2         20\n",
       "2           3         30\n",
       "3           4         40\n",
       "4           5         50"
      ]
     },
     "execution_count": 8,
     "metadata": {},
     "output_type": "execute_result"
    }
   ],
   "source": [
    "d = {'kolom_satu':[1, 2, 3, 4, 5],\n",
    "     'kolom_dua': [10, 20, 30, 40, 50]}\n",
    "df = pd.DataFrame(d)\n",
    "df"
   ]
  },
  {
   "cell_type": "code",
   "execution_count": 9,
   "id": "10a9713e",
   "metadata": {},
   "outputs": [],
   "source": [
    "# Seleksi baris dengan query"
   ]
  },
  {
   "cell_type": "code",
   "execution_count": 10,
   "id": "25c41703",
   "metadata": {},
   "outputs": [
    {
     "data": {
      "text/html": [
       "<div>\n",
       "<style scoped>\n",
       "    .dataframe tbody tr th:only-of-type {\n",
       "        vertical-align: middle;\n",
       "    }\n",
       "\n",
       "    .dataframe tbody tr th {\n",
       "        vertical-align: top;\n",
       "    }\n",
       "\n",
       "    .dataframe thead th {\n",
       "        text-align: right;\n",
       "    }\n",
       "</style>\n",
       "<table border=\"1\" class=\"dataframe\">\n",
       "  <thead>\n",
       "    <tr style=\"text-align: right;\">\n",
       "      <th></th>\n",
       "      <th>kolom_satu</th>\n",
       "      <th>kolom_dua</th>\n",
       "    </tr>\n",
       "  </thead>\n",
       "  <tbody>\n",
       "    <tr>\n",
       "      <th>2</th>\n",
       "      <td>3</td>\n",
       "      <td>30</td>\n",
       "    </tr>\n",
       "    <tr>\n",
       "      <th>3</th>\n",
       "      <td>4</td>\n",
       "      <td>40</td>\n",
       "    </tr>\n",
       "    <tr>\n",
       "      <th>4</th>\n",
       "      <td>5</td>\n",
       "      <td>50</td>\n",
       "    </tr>\n",
       "  </tbody>\n",
       "</table>\n",
       "</div>"
      ],
      "text/plain": [
       "   kolom_satu  kolom_dua\n",
       "2           3         30\n",
       "3           4         40\n",
       "4           5         50"
      ]
     },
     "execution_count": 10,
     "metadata": {},
     "output_type": "execute_result"
    }
   ],
   "source": [
    "df.query('kolom_satu > 2')"
   ]
  },
  {
   "cell_type": "code",
   "execution_count": 11,
   "id": "97c08aba",
   "metadata": {},
   "outputs": [
    {
     "data": {
      "text/html": [
       "<div>\n",
       "<style scoped>\n",
       "    .dataframe tbody tr th:only-of-type {\n",
       "        vertical-align: middle;\n",
       "    }\n",
       "\n",
       "    .dataframe tbody tr th {\n",
       "        vertical-align: top;\n",
       "    }\n",
       "\n",
       "    .dataframe thead th {\n",
       "        text-align: right;\n",
       "    }\n",
       "</style>\n",
       "<table border=\"1\" class=\"dataframe\">\n",
       "  <thead>\n",
       "    <tr style=\"text-align: right;\">\n",
       "      <th></th>\n",
       "      <th>kolom_satu</th>\n",
       "      <th>kolom_dua</th>\n",
       "    </tr>\n",
       "  </thead>\n",
       "  <tbody>\n",
       "    <tr>\n",
       "      <th>3</th>\n",
       "      <td>4</td>\n",
       "      <td>40</td>\n",
       "    </tr>\n",
       "    <tr>\n",
       "      <th>4</th>\n",
       "      <td>5</td>\n",
       "      <td>50</td>\n",
       "    </tr>\n",
       "  </tbody>\n",
       "</table>\n",
       "</div>"
      ],
      "text/plain": [
       "   kolom_satu  kolom_dua\n",
       "3           4         40\n",
       "4           5         50"
      ]
     },
     "execution_count": 11,
     "metadata": {},
     "output_type": "execute_result"
    }
   ],
   "source": [
    "df.query('kolom_dua > 30')"
   ]
  },
  {
   "cell_type": "code",
   "execution_count": 12,
   "id": "59966d01",
   "metadata": {},
   "outputs": [],
   "source": [
    "# Pandas 24"
   ]
  },
  {
   "cell_type": "code",
   "execution_count": null,
   "id": "4a189d04",
   "metadata": {},
   "outputs": [],
   "source": [
    "# Persiapan Series"
   ]
  },
  {
   "cell_type": "code",
   "execution_count": 17,
   "id": "46b5e78a",
   "metadata": {},
   "outputs": [
    {
     "data": {
      "text/plain": [
       "0   2020-06-09 06:18:41\n",
       "1   2020-06-09 07:18:41\n",
       "2   2020-06-09 08:18:41\n",
       "3   2020-06-09 09:18:41\n",
       "4   2020-06-09 10:18:41\n",
       "dtype: datetime64[ns]"
      ]
     },
     "execution_count": 17,
     "metadata": {},
     "output_type": "execute_result"
    }
   ],
   "source": [
    "s = pd.Series(range(1591683521, 1592201921, 3600))\n",
    "s = pd.to_datetime(s, unit = 's')\n",
    "s.head()"
   ]
  },
  {
   "cell_type": "code",
   "execution_count": 18,
   "id": "c9d99ebd",
   "metadata": {},
   "outputs": [],
   "source": [
    "# Pengaturan zona waktu (time zone)"
   ]
  },
  {
   "cell_type": "code",
   "execution_count": 20,
   "id": "cfb9fbb1",
   "metadata": {},
   "outputs": [
    {
     "data": {
      "text/plain": [
       "0   2020-06-09 06:18:41+00:00\n",
       "1   2020-06-09 07:18:41+00:00\n",
       "2   2020-06-09 08:18:41+00:00\n",
       "3   2020-06-09 09:18:41+00:00\n",
       "4   2020-06-09 10:18:41+00:00\n",
       "dtype: datetime64[ns, UTC]"
      ]
     },
     "execution_count": 20,
     "metadata": {},
     "output_type": "execute_result"
    }
   ],
   "source": [
    "s = s.dt.tz_localize('UTC')\n",
    "s.head()"
   ]
  },
  {
   "cell_type": "code",
   "execution_count": 22,
   "id": "91de9f7b",
   "metadata": {},
   "outputs": [
    {
     "data": {
      "text/plain": [
       "0   2020-06-09 13:18:41+07:00\n",
       "1   2020-06-09 14:18:41+07:00\n",
       "2   2020-06-09 15:18:41+07:00\n",
       "3   2020-06-09 16:18:41+07:00\n",
       "4   2020-06-09 17:18:41+07:00\n",
       "dtype: datetime64[ns, Asia/Jakarta]"
      ]
     },
     "execution_count": 22,
     "metadata": {},
     "output_type": "execute_result"
    }
   ],
   "source": [
    "s = s.dt.tz_convert('Asia/Jakarta')\n",
    "s.head()"
   ]
  },
  {
   "cell_type": "code",
   "execution_count": 23,
   "id": "8c69ee20",
   "metadata": {},
   "outputs": [
    {
     "data": {
      "text/plain": [
       "0   2020-06-09 16:18:41+10:00\n",
       "1   2020-06-09 17:18:41+10:00\n",
       "2   2020-06-09 18:18:41+10:00\n",
       "3   2020-06-09 19:18:41+10:00\n",
       "4   2020-06-09 20:18:41+10:00\n",
       "dtype: datetime64[ns, Australia/Hobart]"
      ]
     },
     "execution_count": 23,
     "metadata": {},
     "output_type": "execute_result"
    }
   ],
   "source": [
    "s = s.dt.tz_convert('Australia/Hobart')\n",
    "s.head()"
   ]
  },
  {
   "cell_type": "code",
   "execution_count": null,
   "id": "fd3f07c5",
   "metadata": {},
   "outputs": [],
   "source": []
  }
 ],
 "metadata": {
  "kernelspec": {
   "display_name": "Python 3",
   "language": "python",
   "name": "python3"
  },
  "language_info": {
   "codemirror_mode": {
    "name": "ipython",
    "version": 3
   },
   "file_extension": ".py",
   "mimetype": "text/x-python",
   "name": "python",
   "nbconvert_exporter": "python",
   "pygments_lexer": "ipython3",
   "version": "3.8.8"
  }
 },
 "nbformat": 4,
 "nbformat_minor": 5
}
